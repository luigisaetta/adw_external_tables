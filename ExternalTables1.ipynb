{
 "cells": [
  {
   "cell_type": "markdown",
   "metadata": {},
   "source": [
    "### Managing External Tables\n",
    "\n",
    "#### version for local file"
   ]
  },
  {
   "cell_type": "code",
   "execution_count": 7,
   "metadata": {},
   "outputs": [],
   "source": [
    "# imports\n",
    "\n",
    "import pandas as pd"
   ]
  },
  {
   "cell_type": "code",
   "execution_count": 21,
   "metadata": {},
   "outputs": [],
   "source": [
    "# constants and parameters\n",
    "FILE_NAME = 'test_ratings.csv'\n",
    "\n",
    "# This is the base_url for the region where the bucket is\n",
    "BASE_URL = 'https://objectstorage.eu-frankfurt-1.oraclecloud.com/n/'\n",
    "\n",
    "# the name for the external table\n",
    "TABLE_NAME = 'RATINGS_EXT'\n",
    "\n",
    "NAMESPACE = 'emXXXXXXX'\n",
    "BUCKET_NAME = 'datalake_in'\n",
    "CREDENTIAL_NAME = 'ADWH2'\n",
    "\n",
    "# FILE_URL = BASE_URL + NAMESPACE + '/b/' + BUCKET_NAME + '/o/' + FILE_NAME"
   ]
  },
  {
   "cell_type": "code",
   "execution_count": 22,
   "metadata": {},
   "outputs": [
    {
     "data": {
      "text/plain": [
       "{'int32': 'NUMBER',\n",
       " 'int64': 'NUMBER',\n",
       " 'float32': 'NUMBER',\n",
       " 'float64': 'NUMBER',\n",
       " 'object': 'VARCHAR2(2000)'}"
      ]
     },
     "execution_count": 22,
     "metadata": {},
     "output_type": "execute_result"
    }
   ],
   "source": [
    "# This is the dictionary of supported mappings\n",
    "dict_mappings = {}\n",
    "dict_mappings['int32'] = 'NUMBER'\n",
    "dict_mappings['int64'] = 'NUMBER'\n",
    "dict_mappings['float32'] = 'NUMBER'\n",
    "dict_mappings['float64'] = 'NUMBER'\n",
    "dict_mappings['object'] = 'VARCHAR2(2000)'\n",
    "\n",
    "dict_mappings"
   ]
  },
  {
   "cell_type": "code",
   "execution_count": 23,
   "metadata": {},
   "outputs": [],
   "source": [
    "# read the file to link with external table\n",
    "\n",
    "# for now, it assumes that the file is a plain CSV, separator is comma\n",
    "my_df = pd.read_csv(FILE_NAME, sep=',')\n",
    "\n",
    "# my_df.head()\n",
    "\n",
    "# assumption made on file\n",
    "# 1. It is a CSV file. Separator is comma\n",
    "# 2. File is available locally (or on the Object Storage)\n",
    "# 3. For now only supported number and strings (varchar2)\n",
    "# 4. Header: mandatory, in first line\n",
    "# ...."
   ]
  },
  {
   "cell_type": "code",
   "execution_count": 36,
   "metadata": {},
   "outputs": [],
   "source": [
    "#\n",
    "# function to generate ddl\n",
    "#\n",
    "def generate_ddl(df):\n",
    "    '''\n",
    "    df: Pandas DataFrame\n",
    "    '''\n",
    "    \n",
    "    print('Generating DDL for table: ', TABLE_NAME)\n",
    "    print()\n",
    "    \n",
    "    # const\n",
    "    PART_INITIAL = \"BEGIN\\n \\tDBMS_CLOUD.CREATE_EXTERNAL_TABLE(\"\n",
    "    PART_END = \"\\t); \\nEND; \\n/\"\n",
    "    \n",
    "    FORMAT_STRING = \"format => json_object('type' value 'csv', 'skipheaders' value '1'),\"\n",
    "    FILE_URL = BASE_URL + NAMESPACE + '/b/' + BUCKET_NAME + '/o/' + FILE_NAME\n",
    "    PART_TABLE_NAME = \"table_name =>'\" + TABLE_NAME + \"',\"\n",
    "    PART_CREDENTIAL_NAME = \"credential_name =>'\" + CREDENTIAL_NAME + \"',\"\n",
    "    PART_FILE_URI_LIST = \"file_uri_list =>'\" + FILE_URL + \"',\"\n",
    "    \n",
    "    # \\t for pretty printing\n",
    "    TAB2 = '\\t\\t'\n",
    "    \n",
    "    print(PART_INITIAL)\n",
    "    print(TAB2 + PART_TABLE_NAME)\n",
    "    print(TAB2 + PART_CREDENTIAL_NAME)\n",
    "    print(TAB2 + PART_FILE_URI_LIST)\n",
    "    print(TAB2 + FORMAT_STRING)\n",
    "    \n",
    "    # generate column list\n",
    "    print(TAB2 + \"column_list => '\")\n",
    "    \n",
    "    # get list of columns\n",
    "    l_columns = list(df.columns)\n",
    "    \n",
    "    # needed to handle last comma (not to be printed)\n",
    "    n_columns = len(l_columns)\n",
    "    COMMA = \",\"\n",
    "    \n",
    "    for i in range(n_columns):\n",
    "        column = l_columns[i]\n",
    "        \n",
    "        # do not add last comma\n",
    "        if i == n_columns - 1:\n",
    "            COMMA = \"\"\n",
    "        # column names changed to uppercase\n",
    "        print(TAB2 + column.upper() + ' ' + dict_mappings[str(df[column].dtype)] + COMMA)\n",
    "    \n",
    "    # close column_list\n",
    "    print(TAB2 + \"'\")\n",
    "    \n",
    "    # end of SQL\n",
    "    print(PART_END)\n",
    "    \n",
    "    return"
   ]
  },
  {
   "cell_type": "code",
   "execution_count": 38,
   "metadata": {},
   "outputs": [
    {
     "name": "stdout",
     "output_type": "stream",
     "text": [
      "Generating DDL for table:  RATINGS_EXT\n",
      "\n",
      "BEGIN\n",
      " \tDBMS_CLOUD.CREATE_EXTERNAL_TABLE(\n",
      "\t\ttable_name =>'RATINGS_EXT',\n",
      "\t\tcredential_name =>'ADWH2',\n",
      "\t\tfile_uri_list =>'https://objectstorage.YYYYYY.oraclecloud.com/n/XXXXX/b/datalake_in/o/test_ratings.csv',\n",
      "\t\tformat => json_object('type' value 'csv', 'skipheaders' value '1'),\n",
      "\t\tcolumn_list => '\n",
      "\t\tUSER_ID NUMBER,\n",
      "\t\tMOVIE_ID NUMBER,\n",
      "\t\tRATING NUMBER,\n",
      "\t\tTS NUMBER\n",
      "\t\t'\n",
      "\t); \n",
      "END; \n",
      "/\n"
     ]
    }
   ],
   "source": [
    "generate_ddl(my_df)"
   ]
  },
  {
   "cell_type": "code",
   "execution_count": null,
   "metadata": {},
   "outputs": [],
   "source": []
  }
 ],
 "metadata": {
  "kernelspec": {
   "display_name": "Python 3",
   "language": "python",
   "name": "python3"
  },
  "language_info": {
   "codemirror_mode": {
    "name": "ipython",
    "version": 3
   },
   "file_extension": ".py",
   "mimetype": "text/x-python",
   "name": "python",
   "nbconvert_exporter": "python",
   "pygments_lexer": "ipython3",
   "version": "3.6.10"
  }
 },
 "nbformat": 4,
 "nbformat_minor": 4
}
